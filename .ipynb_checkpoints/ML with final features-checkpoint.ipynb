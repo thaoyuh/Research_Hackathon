{
 "cells": [
  {
   "cell_type": "code",
   "execution_count": 1,
   "id": "841834e9",
   "metadata": {},
   "outputs": [],
   "source": [
    "import pandas as pd\n",
    "import numpy as np\n",
    "import matplotlib.pyplot as plt\n",
    "import seaborn as sns"
   ]
  },
  {
   "cell_type": "code",
   "execution_count": 2,
   "id": "410254a5",
   "metadata": {},
   "outputs": [],
   "source": [
    "df_lda = pd.read_csv('df_lda.csv')  \n",
    "# combine lda matrix with other engineered features\n",
    "df_selected = pd.read_csv('selected_data.csv')\n",
    "df_all = pd.concat([df_selected,df_lda],axis = 1)"
   ]
  },
  {
   "cell_type": "code",
   "execution_count": 3,
   "id": "bd1e4cb8",
   "metadata": {},
   "outputs": [],
   "source": [
    "from sklearn.preprocessing import StandardScaler\n",
    "\n",
    "#  Create an instance of StandardScaler\n",
    "scaler = StandardScaler()\n",
    "\n",
    "# Fit the scaler to your DataFrame\n",
    "scaler.fit(df_all.drop('fraudulent',axis = 1).values)\n",
    "X_scaled = scaler.transform(df_all.drop('fraudulent',axis = 1).values)\n",
    "df_scaled = pd.DataFrame(X_scaled,columns = df_all.drop('fraudulent',axis = 1).columns)\n",
    "df_scaled['fraudulent'] = df_all['fraudulent'].values"
   ]
  },
  {
   "cell_type": "code",
   "execution_count": 4,
   "id": "71ea9838",
   "metadata": {},
   "outputs": [
    {
     "data": {
      "text/plain": [
       "0    12748\n",
       "1      662\n",
       "Name: fraudulent, dtype: int64"
      ]
     },
     "execution_count": 4,
     "metadata": {},
     "output_type": "execute_result"
    }
   ],
   "source": [
    "np.random.seed(26)\n",
    "# Train_test\n",
    "df_train = df_all.sample(frac = 0.75)\n",
    "df_test = df_all.drop(df_train.index)\n",
    "\n",
    "df_train['fraudulent'].value_counts()"
   ]
  },
  {
   "cell_type": "code",
   "execution_count": 5,
   "id": "47b3cefc",
   "metadata": {},
   "outputs": [
    {
     "data": {
      "text/plain": [
       "0    12748\n",
       "1    12578\n",
       "Name: fraudulent, dtype: int64"
      ]
     },
     "execution_count": 5,
     "metadata": {},
     "output_type": "execute_result"
    }
   ],
   "source": [
    "# oversample the training set to tackle the imbalance\n",
    "def over_sample(data):\n",
    "    #Make a balanced dataset by oversampling\n",
    "    data_Fraud = data[data['fraudulent']==1]\n",
    "    data_NonFraud =  data[data['fraudulent']==0]    \n",
    "    df_fraud_example = pd.concat([data_Fraud, data_Fraud, data_Fraud, data_Fraud, \n",
    "                                  data_Fraud, data_Fraud, data_Fraud, data_Fraud, \n",
    "                                  data_Fraud, data_Fraud, data_Fraud, data_Fraud, \n",
    "                                 data_Fraud, data_Fraud, data_Fraud, data_Fraud, \n",
    "                                 data_Fraud, data_Fraud, data_Fraud], axis = 0)\n",
    "    data_balanced = pd.concat([data_NonFraud, df_fraud_example], axis = 0)\n",
    "    data_balanced = data_balanced.sample(frac=1).reset_index(drop=True)\n",
    "    return data_balanced\n",
    "\n",
    "df_train_bal = over_sample(df_train)\n",
    "df_train_bal['fraudulent'].value_counts()"
   ]
  },
  {
   "cell_type": "code",
   "execution_count": 6,
   "id": "e9147441",
   "metadata": {},
   "outputs": [],
   "source": [
    "X_train = df_train_bal.drop(['fraudulent'], axis=1).values\n",
    "y_train = df_train_bal['fraudulent'].values\n",
    "\n",
    "X_test = df_test.drop(['fraudulent'], axis=1).values\n",
    "y_test = df_test['fraudulent'].values\n",
    "\n",
    "## for machine learning\n",
    "from sklearn import model_selection, preprocessing, feature_selection, ensemble, linear_model, metrics, decomposition\n",
    "from sklearn.model_selection import train_test_split\n",
    "from sklearn import metrics\n",
    "from sklearn.ensemble import RandomForestClassifier\n",
    "from sklearn.preprocessing import LabelEncoder"
   ]
  },
  {
   "cell_type": "markdown",
   "id": "dddab828",
   "metadata": {},
   "source": [
    "# Logistic Regression"
   ]
  },
  {
   "cell_type": "code",
   "execution_count": 7,
   "id": "775095d4",
   "metadata": {
    "scrolled": true
   },
   "outputs": [
    {
     "name": "stdout",
     "output_type": "stream",
     "text": [
      "Accuracy (overall correct predictions): 0.75\n",
      "Auc: 0.85\n",
      "Recall (all 1s predicted right): 0.71\n",
      "Precision (confidence when predicting a 1): 0.77\n",
      "Detail:\n",
      "              precision    recall  f1-score   support\n",
      "\n",
      "           0       0.73      0.79      0.76     12748\n",
      "           1       0.77      0.71      0.74     12578\n",
      "\n",
      "    accuracy                           0.75     25326\n",
      "   macro avg       0.75      0.75      0.75     25326\n",
      "weighted avg       0.75      0.75      0.75     25326\n",
      "\n",
      "Accuracy (overall correct predictions): 0.79\n",
      "Auc: 0.86\n",
      "Recall (all 1s predicted right): 0.73\n",
      "Precision (confidence when predicting a 1): 0.14\n",
      "Detail:\n",
      "              precision    recall  f1-score   support\n",
      "\n",
      "           0       0.98      0.79      0.88      4266\n",
      "           1       0.14      0.73      0.24       204\n",
      "\n",
      "    accuracy                           0.79      4470\n",
      "   macro avg       0.56      0.76      0.56      4470\n",
      "weighted avg       0.95      0.79      0.85      4470\n",
      "\n"
     ]
    },
    {
     "name": "stderr",
     "output_type": "stream",
     "text": [
      "/opt/anaconda3/lib/python3.9/site-packages/sklearn/linear_model/_logistic.py:444: ConvergenceWarning: lbfgs failed to converge (status=1):\n",
      "STOP: TOTAL NO. of ITERATIONS REACHED LIMIT.\n",
      "\n",
      "Increase the number of iterations (max_iter) or scale the data as shown in:\n",
      "    https://scikit-learn.org/stable/modules/preprocessing.html\n",
      "Please also refer to the documentation for alternative solver options:\n",
      "    https://scikit-learn.org/stable/modules/linear_model.html#logistic-regression\n",
      "  n_iter_i = _check_optimize_result(\n"
     ]
    },
    {
     "data": {
      "image/png": "[encoded data removed]",
      "text/plain": [
       "<Figure size 432x288 with 1 Axes>"
      ]
     },
     "metadata": {
      "needs_background": "light"
     },
     "output_type": "display_data"
    }
   ],
   "source": [
    "# evaluate a logistic regression model using k-fold cross-validation\n",
    "from numpy import mean\n",
    "from numpy import std\n",
    "from sklearn.model_selection import KFold\n",
    "from sklearn.model_selection import cross_val_score\n",
    "from sklearn.linear_model import LogisticRegression\n",
    "\n",
    "# prepare the cross-validation procedure\n",
    "cv = KFold(n_splits=10, random_state=1, shuffle=True)\n",
    "# create model\n",
    "model = LogisticRegression()\n",
    "# fit model\n",
    "model.fit(X_train, y_train)\n",
    "\n",
    "#train set prediction\n",
    "predicted_prob = model.predict_proba(X_train)[:,1]\n",
    "predicted = model.predict(X_train)\n",
    "## Accuray e AUC\n",
    "accuracy = metrics.accuracy_score(y_train, predicted)\n",
    "auc = metrics.roc_auc_score(y_train, predicted_prob)\n",
    "print(\"Accuracy (overall correct predictions):\",  round(accuracy,2))\n",
    "print(\"Auc:\", round(auc,2))\n",
    "## Precision e Recall\n",
    "recall = metrics.recall_score(y_train, predicted)\n",
    "precision = metrics.precision_score(y_train, predicted)\n",
    "print(\"Recall (all 1s predicted right):\", round(recall,2))\n",
    "print(\"Precision (confidence when predicting a 1):\", round(precision,2))\n",
    "print(\"Detail:\")\n",
    "print(metrics.classification_report(y_train, predicted, target_names=[str(i) for i in np.unique(y_test)]))\n",
    "\n",
    "#test set prediction\n",
    "predicted_prob = model.predict_proba(X_test)[:,1]\n",
    "predicted = model.predict(X_test)\n",
    "## Accuray e AUC\n",
    "accuracy = metrics.accuracy_score(y_test, predicted)\n",
    "auc = metrics.roc_auc_score(y_test, predicted_prob)\n",
    "print(\"Accuracy (overall correct predictions):\",  round(accuracy,2))\n",
    "print(\"Auc:\", round(auc,2))\n",
    "## Precision e Recall\n",
    "recall = metrics.recall_score(y_test, predicted)\n",
    "precision = metrics.precision_score(y_test, predicted)\n",
    "print(\"Recall (all 1s predicted right):\", round(recall,2))\n",
    "print(\"Precision (confidence when predicting a 1):\", round(precision,2))\n",
    "print(\"Detail:\")\n",
    "print(metrics.classification_report(y_test, predicted, target_names=[str(i) for i in np.unique(y_test)]))\n",
    "\n",
    "classes = np.unique(y_test)\n",
    "fig, ax = plt.subplots()\n",
    "cm = metrics.confusion_matrix(y_test, predicted, labels=classes)\n",
    "sns.heatmap(cm, annot=True, fmt='d', cmap=plt.cm.Blues, cbar=False)\n",
    "ax.set(xlabel=\"Pred\", ylabel=\"True\", title=\"Confusion matrix\")\n",
    "ax.set_yticklabels(labels=classes, rotation=0)\n",
    "plt.show()"
   ]
  },
  {
   "cell_type": "markdown",
   "id": "a6ffc30b",
   "metadata": {},
   "source": [
    "# Random Forest"
   ]
  },
  {
   "cell_type": "code",
   "execution_count": 8,
   "id": "52ec739b",
   "metadata": {},
   "outputs": [
    {
     "name": "stdout",
     "output_type": "stream",
     "text": [
      "Accuracy (overall correct predictions): 0.98\n",
      "Auc: 0.98\n",
      "Recall (all 1s predicted right): 0.7\n",
      "Precision (confidence when predicting a 1): 0.96\n",
      "Detail:\n",
      "              precision    recall  f1-score   support\n",
      "\n",
      "           0       0.99      1.00      0.99      4266\n",
      "           1       0.96      0.70      0.81       204\n",
      "\n",
      "    accuracy                           0.98      4470\n",
      "   macro avg       0.97      0.85      0.90      4470\n",
      "weighted avg       0.98      0.98      0.98      4470\n",
      "\n"
     ]
    },
    {
     "data": {
      "image/png": "[encoded data removed]",
      "text/plain": [
       "<Figure size 432x288 with 1 Axes>"
      ]
     },
     "metadata": {
      "needs_background": "light"
     },
     "output_type": "display_data"
    }
   ],
   "source": [
    "from sklearn.ensemble import RandomForestClassifier\n",
    "## call model\n",
    "rf = RandomForestClassifier(n_estimators = 50, random_state = 26)\n",
    "# fit model\n",
    "rf.fit(X_train, y_train)\n",
    "\n",
    "predicted_prob = rf.predict_proba(X_test)[:,1]\n",
    "rf_predicted = rf.predict(X_test)\n",
    "\n",
    "## Accuray and AUC\n",
    "accuracy = metrics.accuracy_score(y_test, rf_predicted)\n",
    "auc = metrics.roc_auc_score(y_test, predicted_prob)\n",
    "print(\"Accuracy (overall correct predictions):\",  round(accuracy,2))\n",
    "print(\"Auc:\", round(auc,2))\n",
    "    \n",
    "## Precision and Recall\n",
    "recall = metrics.recall_score(y_test, rf_predicted)\n",
    "precision = metrics.precision_score(y_test, rf_predicted)\n",
    "print(\"Recall (all 1s predicted right):\", round(recall,2))\n",
    "print(\"Precision (confidence when predicting a 1):\", round(precision,2))\n",
    "print(\"Detail:\")\n",
    "print(metrics.classification_report(y_test, rf_predicted, target_names=[str(i) for i in np.unique(y_test)]))\n",
    "\n",
    "import seaborn as sns\n",
    "\n",
    "classes = np.unique(y_test)\n",
    "fig, ax = plt.subplots()\n",
    "cm = metrics.confusion_matrix(y_test, rf_predicted, labels=classes)\n",
    "sns.heatmap(cm, annot=True, fmt='d', cmap=plt.cm.Blues, cbar=False)\n",
    "ax.set(xlabel=\"Pred\", ylabel=\"True\", title=\"Confusion matrix\")\n",
    "ax.set_yticklabels(labels=classes, rotation=0)\n",
    "plt.show()"
   ]
  },
  {
   "cell_type": "markdown",
   "id": "76b68352",
   "metadata": {},
   "source": [
    "# Boosted Gradient Descent"
   ]
  },
  {
   "cell_type": "code",
   "execution_count": 9,
   "id": "afaac384",
   "metadata": {
    "scrolled": true
   },
   "outputs": [
    {
     "name": "stdout",
     "output_type": "stream",
     "text": [
      "Accuracy (overall correct predictions): 1.0\n",
      "Auc: 1.0\n",
      "Recall (all 1s predicted right): 1.0\n",
      "Precision (confidence when predicting a 1): 1.0\n",
      "Detail:\n",
      "              precision    recall  f1-score   support\n",
      "\n",
      "           0       1.00      1.00      1.00     12748\n",
      "           1       1.00      1.00      1.00     12578\n",
      "\n",
      "    accuracy                           1.00     25326\n",
      "   macro avg       1.00      1.00      1.00     25326\n",
      "weighted avg       1.00      1.00      1.00     25326\n",
      "\n",
      "Accuracy (overall correct predictions): 0.98\n",
      "Auc: 0.98\n",
      "Recall (all 1s predicted right): 0.79\n",
      "Precision (confidence when predicting a 1): 0.83\n",
      "Detail:\n",
      "              precision    recall  f1-score   support\n",
      "\n",
      "           0       0.99      0.99      0.99      4266\n",
      "           1       0.83      0.79      0.81       204\n",
      "\n",
      "    accuracy                           0.98      4470\n",
      "   macro avg       0.91      0.89      0.90      4470\n",
      "weighted avg       0.98      0.98      0.98      4470\n",
      "\n"
     ]
    },
    {
     "data": {
      "image/png": "[encoded data removed]",
      "text/plain": [
       "<Figure size 432x288 with 1 Axes>"
      ]
     },
     "metadata": {
      "needs_background": "light"
     },
     "output_type": "display_data"
    }
   ],
   "source": [
    "## call model\n",
    "GB = ensemble.GradientBoostingClassifier(max_depth=10, random_state=26)\n",
    "GB.fit(X_train, y_train)\n",
    "\n",
    "#train set prediction\n",
    "predicted_prob = GB.predict_proba(X_train)[:,1]\n",
    "predicted = GB.predict(X_train)\n",
    "## Accuray e AUC\n",
    "accuracy = metrics.accuracy_score(y_train, predicted)\n",
    "auc = metrics.roc_auc_score(y_train, predicted_prob)\n",
    "print(\"Accuracy (overall correct predictions):\",  round(accuracy,2))\n",
    "print(\"Auc:\", round(auc,2))\n",
    "## Precision e Recall\n",
    "recall = metrics.recall_score(y_train, predicted)\n",
    "precision = metrics.precision_score(y_train, predicted)\n",
    "print(\"Recall (all 1s predicted right):\", round(recall,2))\n",
    "print(\"Precision (confidence when predicting a 1):\", round(precision,2))\n",
    "print(\"Detail:\")\n",
    "print(metrics.classification_report(y_train, predicted, target_names=[str(i) for i in np.unique(y_test)]))\n",
    "\n",
    "#test set prediction\n",
    "predicted_prob = GB.predict_proba(X_test)[:,1]\n",
    "predicted = GB.predict(X_test)\n",
    "## Accuray e AUC\n",
    "accuracy = metrics.accuracy_score(y_test, predicted)\n",
    "auc = metrics.roc_auc_score(y_test, predicted_prob)\n",
    "print(\"Accuracy (overall correct predictions):\",  round(accuracy,2))\n",
    "print(\"Auc:\", round(auc,2))\n",
    "## Precision e Recall\n",
    "recall = metrics.recall_score(y_test, predicted)\n",
    "precision = metrics.precision_score(y_test, predicted)\n",
    "print(\"Recall (all 1s predicted right):\", round(recall,2))\n",
    "print(\"Precision (confidence when predicting a 1):\", round(precision,2))\n",
    "print(\"Detail:\")\n",
    "print(metrics.classification_report(y_test, predicted, target_names=[str(i) for i in np.unique(y_test)]))\n",
    "\n",
    "classes = np.unique(y_test)\n",
    "fig, ax = plt.subplots()\n",
    "cm = metrics.confusion_matrix(y_test, predicted, labels=classes)\n",
    "sns.heatmap(cm, annot=True, fmt='d', cmap=plt.cm.Blues, cbar=False)\n",
    "ax.set(xlabel=\"Pred\", ylabel=\"True\", title=\"Confusion matrix\")\n",
    "ax.set_yticklabels(labels=classes, rotation=0)\n",
    "plt.show()"
   ]
  },
  {
   "cell_type": "markdown",
   "id": "461e1454",
   "metadata": {},
   "source": [
    "# Explainable AI"
   ]
  },
  {
   "cell_type": "code",
   "execution_count": 10,
   "id": "7f0fb491",
   "metadata": {},
   "outputs": [],
   "source": [
    "import shap"
   ]
  },
  {
   "cell_type": "code",
   "execution_count": null,
   "id": "52fc70bb",
   "metadata": {},
   "outputs": [
    {
     "name": "stderr",
     "output_type": "stream",
     "text": [
      "Permutation explainer:  37%|█████▉          | 1660/4470 [01:34<02:48, 16.65it/s]"
     ]
    }
   ],
   "source": [
    "# Fits the explainer\n",
    "explainer = shap.Explainer(GB.predict, X_test)\n",
    "# Calculates the SHAP values - It takes some time\n",
    "shap_values = explainer(X_test)"
   ]
  },
  {
   "cell_type": "code",
   "execution_count": null,
   "id": "bb14b2f7",
   "metadata": {},
   "outputs": [],
   "source": [
    "shap.plots.bar(shap_values)"
   ]
  },
  {
   "cell_type": "code",
   "execution_count": null,
   "id": "63214a60",
   "metadata": {},
   "outputs": [],
   "source": [
    "shap.plots.beeswarm(shap_values)"
   ]
  },
  {
   "cell_type": "code",
   "execution_count": null,
   "id": "e4db59dc",
   "metadata": {},
   "outputs": [],
   "source": []
  }
 ],
 "metadata": {
  "kernelspec": {
   "display_name": "Python 3 (ipykernel)",
   "language": "python",
   "name": "python3"
  },
  "language_info": {
   "codemirror_mode": {
    "name": "ipython",
    "version": 3
   },
   "file_extension": ".py",
   "mimetype": "text/x-python",
   "name": "python",
   "nbconvert_exporter": "python",
   "pygments_lexer": "ipython3",
   "version": "3.9.12"
  }
 },
 "nbformat": 4,
 "nbformat_minor": 5
}
