{
 "cells": [
  {
   "cell_type": "markdown",
   "id": "b8e5a580",
   "metadata": {},
   "source": [
    "# Research hackathon year 1 - Numerical ML classifiers and Explainable AI\n",
    "\n",
    "Data: http://emscad.samos.aegean.gr/\n",
    "\n",
    "Aim: Build and test ML features with numerical features\n",
    "\n",
    "### Imports"
   ]
  },
  {
   "cell_type": "code",
   "execution_count": 41,
   "id": "8e6a9b96",
   "metadata": {},
   "outputs": [],
   "source": [
    "import pandas as pd\n",
    "import numpy as np\n",
    "import matplotlib.pyplot as plt\n",
    "\n",
    "# For classification\n",
    "from sklearn.model_selection import train_test_split\n",
    "from sklearn.metrics import f1_score\n",
    "from sklearn import metrics\n",
    "from sklearn.metrics import classification_report\n",
    "from sklearn.metrics import accuracy_score\n",
    "from sklearn import model_selection, preprocessing, feature_selection, ensemble, linear_model, metrics, decomposition\n"
   ]
  },
  {
   "cell_type": "code",
   "execution_count": 32,
   "id": "243ce834",
   "metadata": {},
   "outputs": [
    {
     "data": {
      "text/html": [
       "<div>\n",
       "<style scoped>\n",
       "    .dataframe tbody tr th:only-of-type {\n",
       "        vertical-align: middle;\n",
       "    }\n",
       "\n",
       "    .dataframe tbody tr th {\n",
       "        vertical-align: top;\n",
       "    }\n",
       "\n",
       "    .dataframe thead th {\n",
       "        text-align: right;\n",
       "    }\n",
       "</style>\n",
       "<table border=\"1\" class=\"dataframe\">\n",
       "  <thead>\n",
       "    <tr style=\"text-align: right;\">\n",
       "      <th></th>\n",
       "      <th>description</th>\n",
       "      <th>has_short_company_profile</th>\n",
       "      <th>company_profile</th>\n",
       "      <th>requirements</th>\n",
       "      <th>benefits</th>\n",
       "      <th>has_company_logo</th>\n",
       "      <th>low_required_education</th>\n",
       "      <th>has_questions</th>\n",
       "      <th>telecommuting</th>\n",
       "      <th>has_short_requirements</th>\n",
       "      <th>fraudulent</th>\n",
       "    </tr>\n",
       "  </thead>\n",
       "  <tbody>\n",
       "    <tr>\n",
       "      <th>0</th>\n",
       "      <td>33</td>\n",
       "      <td>1</td>\n",
       "      <td>1</td>\n",
       "      <td>1</td>\n",
       "      <td>1</td>\n",
       "      <td>0</td>\n",
       "      <td>0</td>\n",
       "      <td>0</td>\n",
       "      <td>0</td>\n",
       "      <td>1</td>\n",
       "      <td>1</td>\n",
       "    </tr>\n",
       "    <tr>\n",
       "      <th>1</th>\n",
       "      <td>8</td>\n",
       "      <td>1</td>\n",
       "      <td>1</td>\n",
       "      <td>8</td>\n",
       "      <td>8</td>\n",
       "      <td>0</td>\n",
       "      <td>0</td>\n",
       "      <td>0</td>\n",
       "      <td>0</td>\n",
       "      <td>1</td>\n",
       "      <td>1</td>\n",
       "    </tr>\n",
       "    <tr>\n",
       "      <th>2</th>\n",
       "      <td>53</td>\n",
       "      <td>1</td>\n",
       "      <td>1</td>\n",
       "      <td>45</td>\n",
       "      <td>1</td>\n",
       "      <td>0</td>\n",
       "      <td>1</td>\n",
       "      <td>0</td>\n",
       "      <td>0</td>\n",
       "      <td>0</td>\n",
       "      <td>1</td>\n",
       "    </tr>\n",
       "    <tr>\n",
       "      <th>3</th>\n",
       "      <td>187</td>\n",
       "      <td>1</td>\n",
       "      <td>1</td>\n",
       "      <td>1</td>\n",
       "      <td>1</td>\n",
       "      <td>0</td>\n",
       "      <td>0</td>\n",
       "      <td>0</td>\n",
       "      <td>0</td>\n",
       "      <td>1</td>\n",
       "      <td>1</td>\n",
       "    </tr>\n",
       "    <tr>\n",
       "      <th>4</th>\n",
       "      <td>9211</td>\n",
       "      <td>1</td>\n",
       "      <td>1</td>\n",
       "      <td>9184</td>\n",
       "      <td>1</td>\n",
       "      <td>0</td>\n",
       "      <td>0</td>\n",
       "      <td>0</td>\n",
       "      <td>0</td>\n",
       "      <td>0</td>\n",
       "      <td>0</td>\n",
       "    </tr>\n",
       "    <tr>\n",
       "      <th>...</th>\n",
       "      <td>...</td>\n",
       "      <td>...</td>\n",
       "      <td>...</td>\n",
       "      <td>...</td>\n",
       "      <td>...</td>\n",
       "      <td>...</td>\n",
       "      <td>...</td>\n",
       "      <td>...</td>\n",
       "      <td>...</td>\n",
       "      <td>...</td>\n",
       "      <td>...</td>\n",
       "    </tr>\n",
       "    <tr>\n",
       "      <th>895</th>\n",
       "      <td>83</td>\n",
       "      <td>1</td>\n",
       "      <td>1</td>\n",
       "      <td>1</td>\n",
       "      <td>1</td>\n",
       "      <td>0</td>\n",
       "      <td>0</td>\n",
       "      <td>0</td>\n",
       "      <td>0</td>\n",
       "      <td>1</td>\n",
       "      <td>1</td>\n",
       "    </tr>\n",
       "    <tr>\n",
       "      <th>896</th>\n",
       "      <td>87</td>\n",
       "      <td>1</td>\n",
       "      <td>1</td>\n",
       "      <td>188</td>\n",
       "      <td>87</td>\n",
       "      <td>0</td>\n",
       "      <td>0</td>\n",
       "      <td>1</td>\n",
       "      <td>0</td>\n",
       "      <td>0</td>\n",
       "      <td>1</td>\n",
       "    </tr>\n",
       "    <tr>\n",
       "      <th>897</th>\n",
       "      <td>54</td>\n",
       "      <td>1</td>\n",
       "      <td>1</td>\n",
       "      <td>218</td>\n",
       "      <td>38</td>\n",
       "      <td>0</td>\n",
       "      <td>0</td>\n",
       "      <td>0</td>\n",
       "      <td>0</td>\n",
       "      <td>0</td>\n",
       "      <td>1</td>\n",
       "    </tr>\n",
       "    <tr>\n",
       "      <th>898</th>\n",
       "      <td>89</td>\n",
       "      <td>1</td>\n",
       "      <td>1</td>\n",
       "      <td>51</td>\n",
       "      <td>40</td>\n",
       "      <td>0</td>\n",
       "      <td>0</td>\n",
       "      <td>0</td>\n",
       "      <td>0</td>\n",
       "      <td>0</td>\n",
       "      <td>1</td>\n",
       "    </tr>\n",
       "    <tr>\n",
       "      <th>899</th>\n",
       "      <td>24</td>\n",
       "      <td>0</td>\n",
       "      <td>82</td>\n",
       "      <td>24</td>\n",
       "      <td>1</td>\n",
       "      <td>1</td>\n",
       "      <td>0</td>\n",
       "      <td>0</td>\n",
       "      <td>0</td>\n",
       "      <td>0</td>\n",
       "      <td>1</td>\n",
       "    </tr>\n",
       "  </tbody>\n",
       "</table>\n",
       "<p>900 rows × 11 columns</p>\n",
       "</div>"
      ],
      "text/plain": [
       "     description  has_short_company_profile  company_profile  requirements  \\\n",
       "0             33                          1                1             1   \n",
       "1              8                          1                1             8   \n",
       "2             53                          1                1            45   \n",
       "3            187                          1                1             1   \n",
       "4           9211                          1                1          9184   \n",
       "..           ...                        ...              ...           ...   \n",
       "895           83                          1                1             1   \n",
       "896           87                          1                1           188   \n",
       "897           54                          1                1           218   \n",
       "898           89                          1                1            51   \n",
       "899           24                          0               82            24   \n",
       "\n",
       "     benefits  has_company_logo  low_required_education  has_questions  \\\n",
       "0           1                 0                       0              0   \n",
       "1           8                 0                       0              0   \n",
       "2           1                 0                       1              0   \n",
       "3           1                 0                       0              0   \n",
       "4           1                 0                       0              0   \n",
       "..        ...               ...                     ...            ...   \n",
       "895         1                 0                       0              0   \n",
       "896        87                 0                       0              1   \n",
       "897        38                 0                       0              0   \n",
       "898        40                 0                       0              0   \n",
       "899         1                 1                       0              0   \n",
       "\n",
       "     telecommuting  has_short_requirements  fraudulent  \n",
       "0                0                       1           1  \n",
       "1                0                       1           1  \n",
       "2                0                       0           1  \n",
       "3                0                       1           1  \n",
       "4                0                       0           0  \n",
       "..             ...                     ...         ...  \n",
       "895              0                       1           1  \n",
       "896              0                       0           1  \n",
       "897              0                       0           1  \n",
       "898              0                       0           1  \n",
       "899              0                       0           1  \n",
       "\n",
       "[900 rows x 11 columns]"
      ]
     },
     "execution_count": 32,
     "metadata": {},
     "output_type": "execute_result"
    }
   ],
   "source": [
    "selected_data = pd.read_csv(\"selected_data2.csv\")\n",
    "selected_data"
   ]
  },
  {
   "cell_type": "code",
   "execution_count": 33,
   "id": "b5c39d19",
   "metadata": {},
   "outputs": [],
   "source": [
    "X = selected_data.iloc[:,0:10] \n",
    "y = selected_data.iloc[:,10]  "
   ]
  },
  {
   "cell_type": "code",
   "execution_count": 34,
   "id": "e0a6a6cf",
   "metadata": {},
   "outputs": [],
   "source": [
    "X_train, X_test, y_train, y_test = train_test_split(X, y, train_size=0.70, random_state= 26) "
   ]
  },
  {
   "cell_type": "markdown",
   "id": "caacdc4c",
   "metadata": {},
   "source": [
    "## Simple Logistic Regressor (baseline model)\n",
    "\n",
    "Accuracy: 0.897 (sd: 0.049)"
   ]
  },
  {
   "cell_type": "code",
   "execution_count": 69,
   "id": "3238f59b",
   "metadata": {},
   "outputs": [
    {
     "name": "stdout",
     "output_type": "stream",
     "text": [
      "Accuracy (overall correct predictions): 0.88\n",
      "Auc: 0.92\n",
      "Recall (all 1s predicted right): 0.92\n",
      "Precision (confidence when predicting a 1): 0.86\n",
      "Detail:\n",
      "              precision    recall  f1-score   support\n",
      "\n",
      "           0       0.91      0.84      0.87       128\n",
      "           1       0.86      0.92      0.89       142\n",
      "\n",
      "    accuracy                           0.88       270\n",
      "   macro avg       0.88      0.88      0.88       270\n",
      "weighted avg       0.88      0.88      0.88       270\n",
      "\n"
     ]
    },
    {
     "name": "stderr",
     "output_type": "stream",
     "text": [
      "lbfgs failed to converge (status=1):\n",
      "STOP: TOTAL NO. of ITERATIONS REACHED LIMIT.\n",
      "\n",
      "Increase the number of iterations (max_iter) or scale the data as shown in:\n",
      "    https://scikit-learn.org/stable/modules/preprocessing.html\n",
      "Please also refer to the documentation for alternative solver options:\n",
      "    https://scikit-learn.org/stable/modules/linear_model.html#logistic-regression\n"
     ]
    },
    {
     "data": {
      "image/png": "[encoded data removed]",
      "text/plain": [
       "<Figure size 432x288 with 1 Axes>"
      ]
     },
     "metadata": {
      "needs_background": "light"
     },
     "output_type": "display_data"
    }
   ],
   "source": [
    "from sklearn.linear_model import LogisticRegression\n",
    "\n",
    "# create model\n",
    "model = LogisticRegression()\n",
    "\n",
    "model.fit(X_train, y_train)\n",
    "## test\n",
    "predicted = model.predict(X_test)\n",
    "predicted_prob = model.predict_proba(X_test)[:,1]\n",
    "\n",
    "## Accuray e AUC\n",
    "accuracy = metrics.accuracy_score(y_test, predicted)\n",
    "auc = metrics.roc_auc_score(y_test, predicted_prob)\n",
    "print(\"Accuracy (overall correct predictions):\",  round(accuracy,2))\n",
    "print(\"Auc:\", round(auc,2))\n",
    "    \n",
    "## Precision e Recall\n",
    "recall = metrics.recall_score(y_test, predicted)\n",
    "precision = metrics.precision_score(y_test, predicted)\n",
    "print(\"Recall (all 1s predicted right):\", round(recall,2))\n",
    "print(\"Precision (confidence when predicting a 1):\", round(precision,2))\n",
    "print(\"Detail:\")\n",
    "print(metrics.classification_report(y_test, predicted, target_names=[str(i) for i in np.unique(y_test)]))\n",
    "\n",
    "classes = np.unique(y_test)\n",
    "fig, ax = plt.subplots()\n",
    "cm = metrics.confusion_matrix(y_test, predicted, labels=classes)\n",
    "sns.heatmap(cm, annot=True, fmt='d', cmap=plt.cm.Blues, cbar=False)\n",
    "ax.set(xlabel=\"Pred\", ylabel=\"True\", title=\"Confusion matrix\")\n",
    "ax.set_yticklabels(labels=classes, rotation=0)\n",
    "plt.show()"
   ]
  },
  {
   "cell_type": "markdown",
   "id": "4372d15a",
   "metadata": {},
   "source": [
    "## Decision Tree"
   ]
  },
  {
   "cell_type": "code",
   "execution_count": 56,
   "id": "74cff288",
   "metadata": {},
   "outputs": [
    {
     "name": "stdout",
     "output_type": "stream",
     "text": [
      "Accuracy (overall correct predictions): 0.87\n",
      "Auc: 0.86\n",
      "Recall (all 1s predicted right): 0.88\n",
      "Precision (confidence when predicting a 1): 0.87\n",
      "Detail:\n",
      "              precision    recall  f1-score   support\n",
      "\n",
      "           0       0.87      0.86      0.86       128\n",
      "           1       0.87      0.88      0.88       142\n",
      "\n",
      "    accuracy                           0.87       270\n",
      "   macro avg       0.87      0.87      0.87       270\n",
      "weighted avg       0.87      0.87      0.87       270\n",
      "\n"
     ]
    },
    {
     "data": {
      "image/png": "[encoded data removed]",
      "text/plain": [
       "<Figure size 432x288 with 1 Axes>"
      ]
     },
     "metadata": {
      "needs_background": "light"
     },
     "output_type": "display_data"
    }
   ],
   "source": [
    "from sklearn.tree import DecisionTreeClassifier\n",
    "\n",
    "model = DecisionTreeClassifier(max_depth=7, random_state=42)\n",
    "\n",
    "model.fit(X_train, y_train)\n",
    "## test\n",
    "predicted = model.predict(X_test)\n",
    "predicted_prob = model.predict_proba(X_test)[:,1]\n",
    "\n",
    "## Accuray e AUC\n",
    "accuracy = metrics.accuracy_score(y_test, predicted)\n",
    "auc = metrics.roc_auc_score(y_test, predicted_prob)\n",
    "print(\"Accuracy (overall correct predictions):\",  round(accuracy,2))\n",
    "print(\"Auc:\", round(auc,2))\n",
    "    \n",
    "## Precision e Recall\n",
    "recall = metrics.recall_score(y_test, predicted)\n",
    "precision = metrics.precision_score(y_test, predicted)\n",
    "print(\"Recall (all 1s predicted right):\", round(recall,2))\n",
    "print(\"Precision (confidence when predicting a 1):\", round(precision,2))\n",
    "print(\"Detail:\")\n",
    "print(metrics.classification_report(y_test, predicted, target_names=[str(i) for i in np.unique(y_test)]))\n",
    "\n",
    "classes = np.unique(y_test)\n",
    "fig, ax = plt.subplots()\n",
    "cm = metrics.confusion_matrix(y_test, predicted, labels=classes)\n",
    "sns.heatmap(cm, annot=True, fmt='d', cmap=plt.cm.Blues, cbar=False)\n",
    "ax.set(xlabel=\"Pred\", ylabel=\"True\", title=\"Confusion matrix\")\n",
    "ax.set_yticklabels(labels=classes, rotation=0)\n",
    "plt.show()"
   ]
  },
  {
   "cell_type": "markdown",
   "id": "5e9b4377",
   "metadata": {},
   "source": [
    "## Random forest"
   ]
  },
  {
   "cell_type": "code",
   "execution_count": 38,
   "id": "8a5a4dd5",
   "metadata": {},
   "outputs": [
    {
     "name": "stdout",
     "output_type": "stream",
     "text": [
      "Accuracy (overall correct predictions): 0.88\n",
      "Auc: 0.96\n",
      "Recall (all 1s predicted right): 0.92\n",
      "Precision (confidence when predicting a 1): 0.86\n",
      "Detail:\n",
      "              precision    recall  f1-score   support\n",
      "\n",
      "           0       0.91      0.84      0.87       128\n",
      "           1       0.86      0.92      0.89       142\n",
      "\n",
      "    accuracy                           0.88       270\n",
      "   macro avg       0.88      0.88      0.88       270\n",
      "weighted avg       0.88      0.88      0.88       270\n",
      "\n"
     ]
    }
   ],
   "source": [
    "## call model\n",
    "rf = RandomForestClassifier(n_estimators = 30, random_state = 42)\n",
    "# fit model\n",
    "rf.fit(X_train, y_train)\n",
    "\n",
    "predicted_prob = rf.predict_proba(X_test)[:,1]\n",
    "rf_predicted = rf.predict(X_test)\n",
    "\n",
    "## Accuray and AUC\n",
    "accuracy = metrics.accuracy_score(y_test, rf_predicted)\n",
    "auc = metrics.roc_auc_score(y_test, predicted_prob)\n",
    "print(\"Accuracy (overall correct predictions):\",  round(accuracy,2))\n",
    "print(\"Auc:\", round(auc,2))\n",
    "    \n",
    "## Precision and Recall\n",
    "recall = metrics.recall_score(y_test, rf_predicted)\n",
    "precision = metrics.precision_score(y_test, rf_predicted)\n",
    "print(\"Recall (all 1s predicted right):\", round(recall,2))\n",
    "print(\"Precision (confidence when predicting a 1):\", round(precision,2))\n",
    "print(\"Detail:\")\n",
    "print(metrics.classification_report(y_test, rf_predicted, target_names=[str(i) for i in np.unique(y_test)]))\n"
   ]
  },
  {
   "cell_type": "code",
   "execution_count": 39,
   "id": "89134f76",
   "metadata": {},
   "outputs": [
    {
     "data": {
      "image/png": "[encoded data removed]",
      "text/plain": [
       "<Figure size 432x288 with 1 Axes>"
      ]
     },
     "metadata": {
      "needs_background": "light"
     },
     "output_type": "display_data"
    }
   ],
   "source": [
    "import seaborn as sns\n",
    "\n",
    "classes = np.unique(y_test)\n",
    "fig, ax = plt.subplots()\n",
    "cm = metrics.confusion_matrix(y_test, rf_predicted, labels=classes)\n",
    "sns.heatmap(cm, annot=True, fmt='d', cmap=plt.cm.Blues, cbar=False)\n",
    "ax.set(xlabel=\"Pred\", ylabel=\"True\", title=\"Confusion matrix\")\n",
    "ax.set_yticklabels(labels=classes, rotation=0)\n",
    "plt.show()"
   ]
  },
  {
   "cell_type": "markdown",
   "id": "60e00331",
   "metadata": {},
   "source": [
    "## Gradient boosting"
   ]
  },
  {
   "cell_type": "code",
   "execution_count": 65,
   "id": "72b023ac",
   "metadata": {},
   "outputs": [
    {
     "data": {
      "text/html": [
       "<style>#sk-container-id-7 {color: black;background-color: white;}#sk-container-id-7 pre{padding: 0;}#sk-container-id-7 div.sk-toggleable {background-color: white;}#sk-container-id-7 label.sk-toggleable__label {cursor: pointer;display: block;width: 100%;margin-bottom: 0;padding: 0.3em;box-sizing: border-box;text-align: center;}#sk-container-id-7 label.sk-toggleable__label-arrow:before {content: \"▸\";float: left;margin-right: 0.25em;color: #696969;}#sk-container-id-7 label.sk-toggleable__label-arrow:hover:before {color: black;}#sk-container-id-7 div.sk-estimator:hover label.sk-toggleable__label-arrow:before {color: black;}#sk-container-id-7 div.sk-toggleable__content {max-height: 0;max-width: 0;overflow: hidden;text-align: left;background-color: #f0f8ff;}#sk-container-id-7 div.sk-toggleable__content pre {margin: 0.2em;color: black;border-radius: 0.25em;background-color: #f0f8ff;}#sk-container-id-7 input.sk-toggleable__control:checked~div.sk-toggleable__content {max-height: 200px;max-width: 100%;overflow: auto;}#sk-container-id-7 input.sk-toggleable__control:checked~label.sk-toggleable__label-arrow:before {content: \"▾\";}#sk-container-id-7 div.sk-estimator input.sk-toggleable__control:checked~label.sk-toggleable__label {background-color: #d4ebff;}#sk-container-id-7 div.sk-label input.sk-toggleable__control:checked~label.sk-toggleable__label {background-color: #d4ebff;}#sk-container-id-7 input.sk-hidden--visually {border: 0;clip: rect(1px 1px 1px 1px);clip: rect(1px, 1px, 1px, 1px);height: 1px;margin: -1px;overflow: hidden;padding: 0;position: absolute;width: 1px;}#sk-container-id-7 div.sk-estimator {font-family: monospace;background-color: #f0f8ff;border: 1px dotted black;border-radius: 0.25em;box-sizing: border-box;margin-bottom: 0.5em;}#sk-container-id-7 div.sk-estimator:hover {background-color: #d4ebff;}#sk-container-id-7 div.sk-parallel-item::after {content: \"\";width: 100%;border-bottom: 1px solid gray;flex-grow: 1;}#sk-container-id-7 div.sk-label:hover label.sk-toggleable__label {background-color: #d4ebff;}#sk-container-id-7 div.sk-serial::before {content: \"\";position: absolute;border-left: 1px solid gray;box-sizing: border-box;top: 0;bottom: 0;left: 50%;z-index: 0;}#sk-container-id-7 div.sk-serial {display: flex;flex-direction: column;align-items: center;background-color: white;padding-right: 0.2em;padding-left: 0.2em;position: relative;}#sk-container-id-7 div.sk-item {position: relative;z-index: 1;}#sk-container-id-7 div.sk-parallel {display: flex;align-items: stretch;justify-content: center;background-color: white;position: relative;}#sk-container-id-7 div.sk-item::before, #sk-container-id-7 div.sk-parallel-item::before {content: \"\";position: absolute;border-left: 1px solid gray;box-sizing: border-box;top: 0;bottom: 0;left: 50%;z-index: -1;}#sk-container-id-7 div.sk-parallel-item {display: flex;flex-direction: column;z-index: 1;position: relative;background-color: white;}#sk-container-id-7 div.sk-parallel-item:first-child::after {align-self: flex-end;width: 50%;}#sk-container-id-7 div.sk-parallel-item:last-child::after {align-self: flex-start;width: 50%;}#sk-container-id-7 div.sk-parallel-item:only-child::after {width: 0;}#sk-container-id-7 div.sk-dashed-wrapped {border: 1px dashed gray;margin: 0 0.4em 0.5em 0.4em;box-sizing: border-box;padding-bottom: 0.4em;background-color: white;}#sk-container-id-7 div.sk-label label {font-family: monospace;font-weight: bold;display: inline-block;line-height: 1.2em;}#sk-container-id-7 div.sk-label-container {text-align: center;}#sk-container-id-7 div.sk-container {/* jupyter's `normalize.less` sets `[hidden] { display: none; }` but bootstrap.min.css set `[hidden] { display: none !important; }` so we also need the `!important` here to be able to override the default hidden behavior on the sphinx rendered scikit-learn.org. See: https://github.com/scikit-learn/scikit-learn/issues/21755 */display: inline-block !important;position: relative;}#sk-container-id-7 div.sk-text-repr-fallback {display: none;}</style><div id=\"sk-container-id-7\" class=\"sk-top-container\"><div class=\"sk-text-repr-fallback\"><pre>GradientBoostingClassifier(max_depth=7, random_state=42)</pre><b>In a Jupyter environment, please rerun this cell to show the HTML representation or trust the notebook. <br />On GitHub, the HTML representation is unable to render, please try loading this page with nbviewer.org.</b></div><div class=\"sk-container\" hidden><div class=\"sk-item\"><div class=\"sk-estimator sk-toggleable\"><input class=\"sk-toggleable__control sk-hidden--visually\" id=\"sk-estimator-id-7\" type=\"checkbox\" checked><label for=\"sk-estimator-id-7\" class=\"sk-toggleable__label sk-toggleable__label-arrow\">GradientBoostingClassifier</label><div class=\"sk-toggleable__content\"><pre>GradientBoostingClassifier(max_depth=7, random_state=42)</pre></div></div></div></div></div>"
      ],
      "text/plain": [
       "GradientBoostingClassifier(max_depth=7, random_state=42)"
      ]
     },
     "execution_count": 65,
     "metadata": {},
     "output_type": "execute_result"
    }
   ],
   "source": [
    "## call model\n",
    "GB = ensemble.GradientBoostingClassifier(max_depth=7, random_state=42)\n",
    "GB.fit(X_train, y_train)"
   ]
  },
  {
   "cell_type": "code",
   "execution_count": 66,
   "id": "70c38240",
   "metadata": {},
   "outputs": [
    {
     "name": "stdout",
     "output_type": "stream",
     "text": [
      "Accuracy (overall correct predictions): 0.88\n",
      "Auc: 0.94\n",
      "Recall (all 1s predicted right): 0.91\n",
      "Precision (confidence when predicting a 1): 0.87\n",
      "Detail:\n",
      "              precision    recall  f1-score   support\n",
      "\n",
      "           0       0.89      0.84      0.87       128\n",
      "           1       0.87      0.91      0.89       142\n",
      "\n",
      "    accuracy                           0.88       270\n",
      "   macro avg       0.88      0.88      0.88       270\n",
      "weighted avg       0.88      0.88      0.88       270\n",
      "\n"
     ]
    },
    {
     "data": {
      "image/png": "[encoded data removed]",
      "text/plain": [
       "<Figure size 432x288 with 1 Axes>"
      ]
     },
     "metadata": {
      "needs_background": "light"
     },
     "output_type": "display_data"
    }
   ],
   "source": [
    "## test\n",
    "predicted = GB.predict(X_test)\n",
    "predicted_prob = GB.predict_proba(X_test)[:,1]\n",
    "\n",
    "## Accuray e AUC\n",
    "accuracy = metrics.accuracy_score(y_test, predicted)\n",
    "auc = metrics.roc_auc_score(y_test, predicted_prob)\n",
    "print(\"Accuracy (overall correct predictions):\",  round(accuracy,2))\n",
    "print(\"Auc:\", round(auc,2))\n",
    "    \n",
    "## Precision e Recall\n",
    "recall = metrics.recall_score(y_test, predicted)\n",
    "precision = metrics.precision_score(y_test, predicted)\n",
    "print(\"Recall (all 1s predicted right):\", round(recall,2))\n",
    "print(\"Precision (confidence when predicting a 1):\", round(precision,2))\n",
    "print(\"Detail:\")\n",
    "print(metrics.classification_report(y_test, predicted, target_names=[str(i) for i in np.unique(y_test)]))\n",
    "\n",
    "classes = np.unique(y_test)\n",
    "fig, ax = plt.subplots()\n",
    "cm = metrics.confusion_matrix(y_test, predicted, labels=classes)\n",
    "sns.heatmap(cm, annot=True, fmt='d', cmap=plt.cm.Blues, cbar=False)\n",
    "ax.set(xlabel=\"Pred\", ylabel=\"True\", title=\"Confusion matrix\")\n",
    "ax.set_yticklabels(labels=classes, rotation=0)\n",
    "plt.show()"
   ]
  },
  {
   "cell_type": "markdown",
   "id": "dd2ebfa6",
   "metadata": {},
   "source": [
    "# Explainable AI"
   ]
  },
  {
   "cell_type": "code",
   "execution_count": 67,
   "id": "73f4fda2",
   "metadata": {},
   "outputs": [],
   "source": [
    "import shap"
   ]
  },
  {
   "cell_type": "code",
   "execution_count": 70,
   "id": "2bcf223c",
   "metadata": {},
   "outputs": [
    {
     "name": "stderr",
     "output_type": "stream",
     "text": [
      "Exact explainer: 271it [00:13,  6.30it/s]                                       \n"
     ]
    }
   ],
   "source": [
    "# Fits the explainer\n",
    "explainer = shap.Explainer(GB.predict, X_test)\n",
    "# Calculates the SHAP values - It takes some time\n",
    "shap_values = explainer(X_test)"
   ]
  },
  {
   "cell_type": "code",
   "execution_count": 71,
   "id": "abe5dc49",
   "metadata": {},
   "outputs": [
    {
     "data": {
      "image/png": "[encoded data removed]",
      "text/plain": [
       "<Figure size 576x468 with 1 Axes>"
      ]
     },
     "metadata": {},
     "output_type": "display_data"
    }
   ],
   "source": [
    "shap.plots.bar(shap_values)\n"
   ]
  },
  {
   "cell_type": "code",
   "execution_count": 72,
   "id": "2e78ca85",
   "metadata": {},
   "outputs": [
    {
     "data": {
      "image/png": "[encoded data removed]",
      "text/plain": [
       "<Figure size 576x396 with 2 Axes>"
      ]
     },
     "metadata": {
      "needs_background": "light"
     },
     "output_type": "display_data"
    }
   ],
   "source": [
    "shap.plots.beeswarm(shap_values)"
   ]
  },
  {
   "cell_type": "code",
   "execution_count": null,
   "id": "39ba1d4e",
   "metadata": {},
   "outputs": [],
   "source": []
  }
 ],
 "metadata": {
  "kernelspec": {
   "display_name": "Python 3 (ipykernel)",
   "language": "python",
   "name": "python3"
  },
  "language_info": {
   "codemirror_mode": {
    "name": "ipython",
    "version": 3
   },
   "file_extension": ".py",
   "mimetype": "text/x-python",
   "name": "python",
   "nbconvert_exporter": "python",
   "pygments_lexer": "ipython3",
   "version": "3.9.12"
  }
 },
 "nbformat": 4,
 "nbformat_minor": 5
}
